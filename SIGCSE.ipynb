{
 "cells": [
  {
   "cell_type": "markdown",
   "metadata": {},
   "source": [
    "#  Jove Editor"
   ]
  },
  {
   "cell_type": "code",
   "execution_count": null,
   "metadata": {},
   "outputs": [],
   "source": [
    "#~~~~~~~~~~~~~~~~~~~~~~~~~~~~~~~~~~~~~~~~~~~~~~~~~~~~~~~\n",
    "import sys\n",
    "\n",
    "# -- Detect if in Own Install or in Colab\n",
    "try:\n",
    "    import google.colab\n",
    "    OWN_INSTALL = False\n",
    "except:\n",
    "    OWN_INSTALL = True\n",
    "    \n",
    "if OWN_INSTALL:\n",
    "  #---- Leave these definitions ON if running on laptop\n",
    "  #---- Else turn OFF by putting them between ''' ... '''\n",
    "\n",
    "  # sys.path[0:0] = ['..'] #,           '../3rdparty' ]\n",
    "  print(\"Running on own machine.\")\n",
    "\n",
    "else: # In colab\n",
    "  ! if [ ! -d Jove ]; then git clone https://gitlab.com/anon_submitter/Jove Jove; fi\n",
    "  sys.path.append('./Jove')\n",
    "  sys.path.append('./Jove/jove')\n",
    "\n",
    "# -- common imports --\n",
    "from jove.lex  import lex\n",
    "from jove.yacc import yacc\n",
    "from jove.Def_md2mc  import *\n",
    "from jove.JoveEditor import *  \n",
    "from jove.AnimateDFA import *\n",
    "\n",
    "from jove.Def_DFA import *\n",
    "from jove.Def_NFA import *\n",
    "from jove.Def_PDA import *\n",
    "from jove.Def_TM  import *\n",
    "\n",
    "#~~~~~~~~~~~~~~~~~~~~~~~~~~~~~~~~~~~~~~~~~~~~~~~~~~~~~~~"
   ]
  },
  {
   "cell_type": "markdown",
   "metadata": {},
   "source": [
    "# NFA defn, AnimateNFA, re2nfa, nfa2dfa, min_dfa, iso_dfa"
   ]
  },
  {
   "cell_type": "markdown",
   "metadata": {},
   "source": [
    "## First, define an NFA using Jove's Automaton Markdown"
   ]
  },
  {
   "cell_type": "code",
   "execution_count": null,
   "metadata": {},
   "outputs": [],
   "source": [
    "nfahas01 = md2mc('''\n",
    "NFA\n",
    "I : 0 | 1 -> I\n",
    "I : ''    -> A\n",
    "A : 0     -> B\n",
    "B : 1     -> C\n",
    "C : 0 | 1 -> C\n",
    "C : ''    -> F\n",
    "''')"
   ]
  },
  {
   "cell_type": "markdown",
   "metadata": {},
   "source": [
    "## Let's draw this NFA now"
   ]
  },
  {
   "cell_type": "code",
   "execution_count": null,
   "metadata": {},
   "outputs": [],
   "source": [
    "dotObj_nfa(nfahas01)"
   ]
  },
  {
   "cell_type": "markdown",
   "metadata": {},
   "source": [
    "## Now let's animate the above creation"
   ]
  },
  {
   "cell_type": "code",
   "execution_count": null,
   "metadata": {},
   "outputs": [],
   "source": [
    "from jove.AnimateNFA import *\n",
    "AnimateNFA(nfahas01)"
   ]
  },
  {
   "cell_type": "markdown",
   "metadata": {},
   "source": [
    "### Jove Editor is a cockpit for animating all machine types\n",
    "\n",
    "This cockpit used to work only on one's own machine, but now works also on Colab!"
   ]
  },
  {
   "cell_type": "code",
   "execution_count": null,
   "metadata": {},
   "outputs": [],
   "source": [
    "from jove.JoveEditor import *\n"
   ]
  },
  {
   "cell_type": "markdown",
   "metadata": {},
   "source": [
    "### JoveEditor has two optional parameters\n",
    "\n",
    "#### machine (default: None) - You can supply an already created jove machine (DFA, NFA, PDA, TM). The machine dictionary will be displayed under 'Edit' tab and the Animation for the machine will be displayed in the 'Animate' tab\n",
    "\n",
    "#### examples (default: False) - If True, the 'Edit' tab will contain example markdown for each machine type. Otherwise, the placeholder text displays a reminder of the rule format"
   ]
  },
  {
   "cell_type": "code",
   "execution_count": null,
   "metadata": {},
   "outputs": [],
   "source": [
    "JoveEditor(examples=True)"
   ]
  },
  {
   "cell_type": "markdown",
   "metadata": {},
   "source": [
    "# Animate* Classes\n",
    "You can animate any Jove machine (DFA, NFA, PDA, TM) using the corresponding Animate* class which will create a widget to interact with the machine.\n",
    "\n",
    "You can enter a string for the machine to consume in the 'Input:' text box at the top of the widget. The string must be composed of symbols in the machine's alphabet which is displayed in input box by default. If the string contains unknown symbols the 'Animate' button will turn red with the message 'Invalid Input' until the string is updated.\n",
    "\n",
    "Click the 'Animate' button when you are ready for the machine to animate using your input. This disables the input textbox and enables the play controls at the bottom of the widget. When you are done exploring the current input click the 'Change Input' button to disable the play controls and re-enable the input textbox. \n",
    "\n",
    "The play controls at the bottom of widget (from left to right) consist of:\n",
    "* Play          : play/resume the animation\n",
    "* Pause         : pause the animation\n",
    "* Stop          : stop the animation, play will start from the beginning\n",
    "* Loop          : loop when the end of the animation is reached and continue playing from the beginning\n",
    "* Step Backward : take one 'step' backward in the animation\n",
    "* Step Forward  : take one 'step' forward in the animation\n",
    "* Speed         : this slider lets you increase the animation playback speed"
   ]
  }
 ],
 "metadata": {
  "kernelspec": {
   "display_name": "Python 3",
   "language": "python",
   "name": "python3"
  },
  "language_info": {
   "codemirror_mode": {
    "name": "ipython",
    "version": 3
   },
   "file_extension": ".py",
   "mimetype": "text/x-python",
   "name": "python",
   "nbconvert_exporter": "python",
   "pygments_lexer": "ipython3",
   "version": "3.7.3"
  }
 },
 "nbformat": 4,
 "nbformat_minor": 2
}
